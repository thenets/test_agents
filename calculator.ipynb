{
 "cells": [
  {
   "cell_type": "markdown",
   "metadata": {},
   "source": [
    "# LangGraph Calculator Tool Integration Example\n",
    "\n",
    "This notebook demonstrates a ReAct agent with calculator tools using LangGraph.\n",
    "It showcases:\n",
    "- LangGraph ReAct agent with tool integration\n",
    "- Custom calculator tools using @tool decorator\n",
    "- Automatic tool selection and execution\n",
    "- Detailed execution flow visualization"
   ]
  },
  {
   "cell_type": "markdown",
   "metadata": {},
   "source": [
    "## Setup and Imports"
   ]
  },
  {
   "cell_type": "code",
   "execution_count": 6,
   "metadata": {},
   "outputs": [
    {
     "name": "stdout",
     "output_type": "stream",
     "text": [
      "🔧 Environment Configuration\n",
      "========================================\n",
      "✅ OpenRouter API key found\n",
      "📍 Current model: openai/gpt-4.1-nano\n",
      "========================================\n"
     ]
    }
   ],
   "source": [
    "import os\n",
    "import sys\n",
    "sys.path.append('./helpers')\n",
    "\n",
    "from helpers.agent_utils import create_calculator_agent, run_calculation\n",
    "from helpers.llm_config import configure_llm, is_openrouter_configured\n",
    "from helpers.calculator_tools import get_calculator_tools\n",
    "\n",
    "# Select the model\n",
    "# 🎯 Available models (set MODEL_NAME environment variable):\n",
    "#    • openai/gpt-4.1-nano (default)     - Latest nano model\n",
    "#    • openai/gpt-4o-mini                - Fast, reliable, cost-effective\n",
    "#    • openai/gpt-4o                     - More capable, higher cost\n",
    "#    • anthropic/claude-3-haiku          - Fast Anthropic model\n",
    "#    • anthropic/claude-3-5-sonnet       - Most capable Anthropic model\n",
    "#    • nvidia/nemotron-nano-9b-v2        - Nvidia's fast model\n",
    "#    • deepseek/deepseek-chat            - DeepSeek's reasoning model\n",
    "#    • meta-llama/llama-3.1-8b-instruct  - Open source option\n",
    "current_model = os.getenv(\"MODEL_NAME\", \"openai/gpt-4.1-nano\")\n",
    "\n",
    "# Environment Configuration\n",
    "print(\"🔧 Environment Configuration\")\n",
    "print(\"=\" * 40)\n",
    "if is_openrouter_configured():\n",
    "    print(\"✅ OpenRouter API key found\")\n",
    "    print(f\"📍 Current model: {current_model}\")\n",
    "else:\n",
    "    print(\"⚠️  Warning: No OpenRouter API key found and Ollama may not be running.\")\n",
    "print(\"=\" * 40)"
   ]
  },
  {
   "cell_type": "markdown",
   "metadata": {},
   "source": [
    "## Create Calculator Agent\n",
    "\n",
    "The agent is configured with calculator tools and uses either OpenRouter or local Ollama."
   ]
  },
  {
   "cell_type": "code",
   "execution_count": 7,
   "metadata": {},
   "outputs": [
    {
     "name": "stdout",
     "output_type": "stream",
     "text": [
      "🤖 Calculator agent created successfully!\n",
      "\n",
      "📋 Available tools: ['add', 'subtract', 'multiply', 'divide']\n"
     ]
    }
   ],
   "source": [
    "# Create the calculator agent\n",
    "agent = create_calculator_agent()\n",
    "print(\"🤖 Calculator agent created successfully!\")\n",
    "\n",
    "# Show available tools\n",
    "tools = get_calculator_tools()\n",
    "print(f\"\\n📋 Available tools: {[tool.name for tool in tools]}\")"
   ]
  },
  {
   "cell_type": "markdown",
   "metadata": {},
   "source": [
    "## Basic Calculator Tests\n",
    "\n",
    "Let's test basic arithmetic operations:"
   ]
  },
  {
   "cell_type": "code",
   "execution_count": 8,
   "metadata": {},
   "outputs": [
    {
     "name": "stdout",
     "output_type": "stream",
     "text": [
      "\n",
      "============================================================\n",
      "🧮 QUERY: Calculate 145 + 237\n",
      "============================================================\n",
      "\n",
      "🔧 Tool Calls from agent:\n",
      "   🛠️  add({'a': 145, 'b': 237})\n",
      "\n",
      "✅ Tool Result:\n",
      "   🎯 add → 382.0\n",
      "\n",
      "🤖 FINAL RESPONSE: The result of 145 + 237 is 382.\n",
      "\n",
      "⏱️  Execution time: 1.61 seconds\n",
      "============================================================\n"
     ]
    },
    {
     "data": {
      "text/plain": [
       "{'agent': {'messages': [AIMessage(content='The result of 145 + 237 is 382.', additional_kwargs={'refusal': None}, response_metadata={'token_usage': {'completion_tokens': 13, 'prompt_tokens': 331, 'total_tokens': 344, 'completion_tokens_details': {'accepted_prediction_tokens': None, 'audio_tokens': None, 'reasoning_tokens': 0, 'rejected_prediction_tokens': None}, 'prompt_tokens_details': {'audio_tokens': 0, 'cached_tokens': 0}}, 'model_name': 'openai/gpt-4.1-nano', 'system_fingerprint': 'fp_7c233bf9d1', 'id': 'gen-1757385344-jn9YEXe7gZjslstjBjJn', 'service_tier': None, 'finish_reason': 'stop', 'logprobs': None}, id='run--5f35ce39-1a16-40ae-a8ad-1abd01bb5091-0', usage_metadata={'input_tokens': 331, 'output_tokens': 13, 'total_tokens': 344, 'input_token_details': {'audio': 0, 'cache_read': 0}, 'output_token_details': {'reasoning': 0}})]}}"
      ]
     },
     "execution_count": 8,
     "metadata": {},
     "output_type": "execute_result"
    }
   ],
   "source": [
    "# Test basic addition\n",
    "run_calculation(agent, \"Calculate 145 + 237\")"
   ]
  },
  {
   "cell_type": "code",
   "execution_count": 9,
   "metadata": {},
   "outputs": [
    {
     "name": "stdout",
     "output_type": "stream",
     "text": [
      "\n",
      "============================================================\n",
      "🧮 QUERY: What is 23 * 67?\n",
      "============================================================\n",
      "\n",
      "🔧 Tool Calls from agent:\n",
      "   🛠️  multiply({'a': 23, 'b': 67})\n",
      "\n",
      "✅ Tool Result:\n",
      "   🎯 multiply → 1541.0\n",
      "\n",
      "🤖 FINAL RESPONSE: The result of 23 multiplied by 67 is 1541.\n",
      "\n",
      "⏱️  Execution time: 1.48 seconds\n",
      "============================================================\n"
     ]
    },
    {
     "data": {
      "text/plain": [
       "{'agent': {'messages': [AIMessage(content='The result of 23 multiplied by 67 is 1541.', additional_kwargs={'refusal': None}, response_metadata={'token_usage': {'completion_tokens': 15, 'prompt_tokens': 334, 'total_tokens': 349, 'completion_tokens_details': {'accepted_prediction_tokens': None, 'audio_tokens': None, 'reasoning_tokens': 0, 'rejected_prediction_tokens': None}, 'prompt_tokens_details': {'audio_tokens': 0, 'cached_tokens': 0}}, 'model_name': 'openai/gpt-4.1-nano', 'system_fingerprint': 'fp_7c233bf9d1', 'id': 'gen-1757385346-ykuGWGSB5PXpNEejWeh0', 'service_tier': None, 'finish_reason': 'stop', 'logprobs': None}, id='run--4064afd6-cfcc-4fc1-9253-3f284cd099fa-0', usage_metadata={'input_tokens': 334, 'output_tokens': 15, 'total_tokens': 349, 'input_token_details': {'audio': 0, 'cache_read': 0}, 'output_token_details': {'reasoning': 0}})]}}"
      ]
     },
     "execution_count": 9,
     "metadata": {},
     "output_type": "execute_result"
    }
   ],
   "source": [
    "# Test multiplication\n",
    "run_calculation(agent, \"What is 23 * 67?\")"
   ]
  },
  {
   "cell_type": "code",
   "execution_count": 10,
   "metadata": {},
   "outputs": [
    {
     "name": "stdout",
     "output_type": "stream",
     "text": [
      "\n",
      "============================================================\n",
      "🧮 QUERY: Compute 1024 divided by 8\n",
      "============================================================\n",
      "\n",
      "🔧 Tool Calls from agent:\n",
      "   🛠️  divide({'a': 1024, 'b': 8})\n",
      "\n",
      "✅ Tool Result:\n",
      "   🎯 divide → 128.0\n",
      "\n",
      "🤖 FINAL RESPONSE: 1024 divided by 8 equals 128.\n",
      "\n",
      "⏱️  Execution time: 1.37 seconds\n",
      "============================================================\n"
     ]
    },
    {
     "data": {
      "text/plain": [
       "{'agent': {'messages': [AIMessage(content='1024 divided by 8 equals 128.', additional_kwargs={'refusal': None}, response_metadata={'token_usage': {'completion_tokens': 11, 'prompt_tokens': 334, 'total_tokens': 345, 'completion_tokens_details': {'accepted_prediction_tokens': None, 'audio_tokens': None, 'reasoning_tokens': 0, 'rejected_prediction_tokens': None}, 'prompt_tokens_details': {'audio_tokens': 0, 'cached_tokens': 0}}, 'model_name': 'openai/gpt-4.1-nano', 'system_fingerprint': 'fp_7c233bf9d1', 'id': 'gen-1757385347-xKqwbHOAxmYyjTSmCi5y', 'service_tier': None, 'finish_reason': 'stop', 'logprobs': None}, id='run--994a82e2-b082-4390-b88b-6fe81310c1dc-0', usage_metadata={'input_tokens': 334, 'output_tokens': 11, 'total_tokens': 345, 'input_token_details': {'audio': 0, 'cache_read': 0}, 'output_token_details': {'reasoning': 0}})]}}"
      ]
     },
     "execution_count": 10,
     "metadata": {},
     "output_type": "execute_result"
    }
   ],
   "source": [
    "# Test division\n",
    "run_calculation(agent, \"Compute 1024 divided by 8\")"
   ]
  },
  {
   "cell_type": "code",
   "execution_count": 11,
   "metadata": {},
   "outputs": [
    {
     "name": "stdout",
     "output_type": "stream",
     "text": [
      "\n",
      "============================================================\n",
      "🧮 QUERY: Find the result of 500 - 123\n",
      "============================================================\n",
      "\n",
      "🔧 Tool Calls from agent:\n",
      "   🛠️  subtract({'a': 500, 'b': 123})\n",
      "\n",
      "✅ Tool Result:\n",
      "   🎯 subtract → 377.0\n",
      "\n",
      "🤖 FINAL RESPONSE: The result of 500 - 123 is 377.\n",
      "\n",
      "⏱️  Execution time: 1.25 seconds\n",
      "============================================================\n"
     ]
    },
    {
     "data": {
      "text/plain": [
       "{'agent': {'messages': [AIMessage(content='The result of 500 - 123 is 377.', additional_kwargs={'refusal': None}, response_metadata={'token_usage': {'completion_tokens': 13, 'prompt_tokens': 334, 'total_tokens': 347, 'completion_tokens_details': {'accepted_prediction_tokens': None, 'audio_tokens': None, 'reasoning_tokens': 0, 'rejected_prediction_tokens': None}, 'prompt_tokens_details': {'audio_tokens': 0, 'cached_tokens': 0}}, 'model_name': 'openai/gpt-4.1-nano', 'system_fingerprint': 'fp_7c233bf9d1', 'id': 'gen-1757385348-Y7rT9grEFpp6gKioaMJz', 'service_tier': None, 'finish_reason': 'stop', 'logprobs': None}, id='run--6fd77b4c-9f50-428d-91fc-df53b2505f25-0', usage_metadata={'input_tokens': 334, 'output_tokens': 13, 'total_tokens': 347, 'input_token_details': {'audio': 0, 'cache_read': 0}, 'output_token_details': {'reasoning': 0}})]}}"
      ]
     },
     "execution_count": 11,
     "metadata": {},
     "output_type": "execute_result"
    }
   ],
   "source": [
    "# Test subtraction\n",
    "run_calculation(agent, \"Find the result of 500 - 123\")"
   ]
  },
  {
   "cell_type": "markdown",
   "metadata": {},
   "source": [
    "## Decimal Number Tests\n",
    "\n",
    "Testing with floating point numbers:"
   ]
  },
  {
   "cell_type": "code",
   "execution_count": 12,
   "metadata": {},
   "outputs": [
    {
     "name": "stdout",
     "output_type": "stream",
     "text": [
      "\n",
      "============================================================\n",
      "🧮 QUERY: What is 15.5 + 24.3?\n",
      "============================================================\n",
      "\n",
      "🔧 Tool Calls from agent:\n",
      "   🛠️  add({'a': 15.5, 'b': 24.3})\n",
      "\n",
      "✅ Tool Result:\n",
      "   🎯 add → 39.8\n",
      "\n",
      "🤖 FINAL RESPONSE: The sum of 15.5 and 24.3 is 39.8.\n",
      "\n",
      "⏱️  Execution time: 1.65 seconds\n",
      "============================================================\n"
     ]
    },
    {
     "data": {
      "text/plain": [
       "{'agent': {'messages': [AIMessage(content='The sum of 15.5 and 24.3 is 39.8.', additional_kwargs={'refusal': None}, response_metadata={'token_usage': {'completion_tokens': 19, 'prompt_tokens': 341, 'total_tokens': 360, 'completion_tokens_details': {'accepted_prediction_tokens': None, 'audio_tokens': None, 'reasoning_tokens': 0, 'rejected_prediction_tokens': None}, 'prompt_tokens_details': {'audio_tokens': 0, 'cached_tokens': 0}}, 'model_name': 'openai/gpt-4.1-nano', 'system_fingerprint': 'fp_7c233bf9d1', 'id': 'gen-1757385350-WE55dr3LW7G84grNLI3V', 'service_tier': None, 'finish_reason': 'stop', 'logprobs': None}, id='run--4ccc2af5-79cd-4fee-a8ea-d64521d6c08a-0', usage_metadata={'input_tokens': 341, 'output_tokens': 19, 'total_tokens': 360, 'input_token_details': {'audio': 0, 'cache_read': 0}, 'output_token_details': {'reasoning': 0}})]}}"
      ]
     },
     "execution_count": 12,
     "metadata": {},
     "output_type": "execute_result"
    }
   ],
   "source": [
    "# Test decimal addition\n",
    "run_calculation(agent, \"What is 15.5 + 24.3?\")"
   ]
  },
  {
   "cell_type": "code",
   "execution_count": 13,
   "metadata": {},
   "outputs": [
    {
     "name": "stdout",
     "output_type": "stream",
     "text": [
      "\n",
      "============================================================\n",
      "🧮 QUERY: What's 2.5 * 4.8?\n",
      "============================================================\n",
      "\n",
      "🔧 Tool Calls from agent:\n",
      "   🛠️  multiply({'a': 2.5, 'b': 4.8})\n",
      "\n",
      "✅ Tool Result:\n",
      "   🎯 multiply → 12.0\n",
      "\n",
      "🤖 FINAL RESPONSE: 2.5 multiplied by 4.8 equals 12.0.\n",
      "\n",
      "⏱️  Execution time: 1.68 seconds\n",
      "============================================================\n"
     ]
    },
    {
     "data": {
      "text/plain": [
       "{'agent': {'messages': [AIMessage(content='2.5 multiplied by 4.8 equals 12.0.', additional_kwargs={'refusal': None}, response_metadata={'token_usage': {'completion_tokens': 16, 'prompt_tokens': 340, 'total_tokens': 356, 'completion_tokens_details': {'accepted_prediction_tokens': None, 'audio_tokens': None, 'reasoning_tokens': 0, 'rejected_prediction_tokens': None}, 'prompt_tokens_details': {'audio_tokens': 0, 'cached_tokens': 0}}, 'model_name': 'openai/gpt-4.1-nano', 'system_fingerprint': 'fp_7c233bf9d1', 'id': 'gen-1757385351-Mrv3rS5YSefdKc2PA6pZ', 'service_tier': None, 'finish_reason': 'stop', 'logprobs': None}, id='run--eae1075f-8c1e-4964-ade6-f3263bd7e46a-0', usage_metadata={'input_tokens': 340, 'output_tokens': 16, 'total_tokens': 356, 'input_token_details': {'audio': 0, 'cache_read': 0}, 'output_token_details': {'reasoning': 0}})]}}"
      ]
     },
     "execution_count": 13,
     "metadata": {},
     "output_type": "execute_result"
    }
   ],
   "source": [
    "# Test decimal multiplication\n",
    "run_calculation(agent, \"What's 2.5 * 4.8?\")"
   ]
  },
  {
   "cell_type": "markdown",
   "metadata": {},
   "source": [
    "## Batch Testing\n",
    "\n",
    "Run multiple test queries in sequence:"
   ]
  },
  {
   "cell_type": "code",
   "execution_count": 14,
   "metadata": {},
   "outputs": [
    {
     "name": "stdout",
     "output_type": "stream",
     "text": [
      "Running 2 additional tests...\n",
      "\n",
      "\n",
      "📊 Additional Test 1/2\n",
      "\n",
      "============================================================\n",
      "🧮 QUERY: Calculate 999 / 3\n",
      "============================================================\n",
      "\n",
      "🔧 Tool Calls from agent:\n",
      "   🛠️  divide({'a': 999, 'b': 3})\n",
      "\n",
      "✅ Tool Result:\n",
      "   🎯 divide → 333.0\n",
      "\n",
      "🤖 FINAL RESPONSE: The result of 999 divided by 3 is 333.\n",
      "\n",
      "⏱️  Execution time: 1.21 seconds\n",
      "============================================================\n",
      "\n",
      "📊 Additional Test 2/2\n",
      "\n",
      "============================================================\n",
      "🧮 QUERY: Subtract 89 from 234\n",
      "============================================================\n",
      "\n",
      "🔧 Tool Calls from agent:\n",
      "   🛠️  subtract({'a': 234, 'b': 89})\n",
      "\n",
      "✅ Tool Result:\n",
      "   🎯 subtract → 145.0\n",
      "\n",
      "🤖 FINAL RESPONSE: The result of subtracting 89 from 234 is 145.\n",
      "\n",
      "⏱️  Execution time: 1.40 seconds\n",
      "============================================================\n"
     ]
    }
   ],
   "source": [
    "# Additional test cases\n",
    "additional_queries = [\n",
    "    \"Calculate 999 / 3\",\n",
    "    \"Subtract 89 from 234\"\n",
    "]\n",
    "\n",
    "print(f\"Running {len(additional_queries)} additional tests...\\n\")\n",
    "\n",
    "for i, query in enumerate(additional_queries, 1):\n",
    "    print(f\"\\n📊 Additional Test {i}/{len(additional_queries)}\")\n",
    "    try:\n",
    "        run_calculation(agent, query)\n",
    "    except Exception as e:\n",
    "        print(f\"❌ Error: {e}\")"
   ]
  },
  {
   "cell_type": "markdown",
   "metadata": {},
   "source": [
    "## Complex Multi-Step Calculation\n",
    "\n",
    "Testing the agent's ability to handle complex calculations:"
   ]
  },
  {
   "cell_type": "code",
   "execution_count": 15,
   "metadata": {},
   "outputs": [
    {
     "name": "stdout",
     "output_type": "stream",
     "text": [
      "🧮 Complex Calculation Test\n",
      "\n",
      "============================================================\n",
      "🧮 QUERY: I need to calculate (15 + 25) * 3. Can you help me with this step by step?\n",
      "============================================================\n",
      "\n",
      "🔧 Tool Calls from agent:\n",
      "   🛠️  add({'a': 15, 'b': 25})\n",
      "   🛠️  multiply({'a': 3, 'b': 1})\n",
      "\n",
      "✅ Tool Result:\n",
      "   🎯 add → 40.0\n",
      "\n",
      "✅ Tool Result:\n",
      "   🎯 multiply → 3.0\n",
      "\n",
      "🤖 FINAL RESPONSE: First, we add 15 and 25, which gives us 40. Then, we multiply 40 by 3, resulting in 120.\n",
      "\n",
      "⏱️  Execution time: 2.16 seconds\n",
      "============================================================\n"
     ]
    }
   ],
   "source": [
    "# Complex calculation test\n",
    "print(\"🧮 Complex Calculation Test\")\n",
    "complex_query = \"I need to calculate (15 + 25) * 3. Can you help me with this step by step?\"\n",
    "try:\n",
    "    run_calculation(agent, complex_query)\n",
    "except Exception as e:\n",
    "    print(f\"❌ Error: {e}\")"
   ]
  },
  {
   "cell_type": "code",
   "execution_count": 17,
   "metadata": {},
   "outputs": [
    {
     "name": "stdout",
     "output_type": "stream",
     "text": [
      "🧮 Complex Calculation Test\n",
      "\n",
      "============================================================\n",
      "🧮 QUERY: I need to calculate: ((15 + 25) * 3) / (43 - 12*5)\n",
      "============================================================\n",
      "\n",
      "🔧 Tool Calls from agent:\n",
      "   🛠️  add({'a': 15, 'b': 25})\n",
      "   🛠️  subtract({'a': 12, 'b': 5})\n",
      "\n",
      "✅ Tool Result:\n",
      "   🎯 add → 40.0\n",
      "\n",
      "✅ Tool Result:\n",
      "   🎯 subtract → 7.0\n",
      "\n",
      "🔧 Tool Calls from agent:\n",
      "   🛠️  multiply({'a': 7, 'b': 3})\n",
      "\n",
      "✅ Tool Result:\n",
      "   🎯 multiply → 21.0\n",
      "\n",
      "🔧 Tool Calls from agent:\n",
      "   🛠️  divide({'a': 40, 'b': 21})\n",
      "\n",
      "✅ Tool Result:\n",
      "   🎯 divide → 1.9047619047619047\n",
      "\n",
      "🤖 FINAL RESPONSE: The result of the calculation ((15 + 25) * 3) / (43 - 12*5) is approximately 1.905.\n",
      "\n",
      "⏱️  Execution time: 4.13 seconds\n",
      "============================================================\n"
     ]
    }
   ],
   "source": [
    "# Complex calculation test\n",
    "print(\"🧮 Complex Calculation Test\")\n",
    "complex_query = \"I need to calculate: ((15 + 25) * 3) / (43 - 12*5)\"\n",
    "try:\n",
    "    run_calculation(agent, complex_query)\n",
    "except Exception as e:\n",
    "    print(f\"❌ Error: {e}\")"
   ]
  },
  {
   "cell_type": "markdown",
   "metadata": {},
   "source": [
    "## Interactive Calculator\n",
    "\n",
    "You can now use the agent interactively for any calculation:"
   ]
  },
  {
   "cell_type": "code",
   "execution_count": 16,
   "metadata": {},
   "outputs": [
    {
     "name": "stdout",
     "output_type": "stream",
     "text": [
      "\n",
      "============================================================\n",
      "🧮 QUERY: Calculate the area of a rectangle with width 12.5 and height 8.3\n",
      "============================================================\n",
      "\n",
      "🔧 Tool Calls from agent:\n",
      "   🛠️  multiply({'a': 12.5, 'b': 8.3})\n",
      "\n",
      "✅ Tool Result:\n",
      "   🎯 multiply → 103.75000000000001\n",
      "\n",
      "🤖 FINAL RESPONSE: The area of the rectangle is approximately 103.75 square units.\n",
      "\n",
      "⏱️  Execution time: 1.92 seconds\n",
      "============================================================\n"
     ]
    },
    {
     "data": {
      "text/plain": [
       "{'agent': {'messages': [AIMessage(content='The area of the rectangle is approximately 103.75 square units.', additional_kwargs={'refusal': None}, response_metadata={'token_usage': {'completion_tokens': 15, 'prompt_tokens': 351, 'total_tokens': 366, 'completion_tokens_details': {'accepted_prediction_tokens': None, 'audio_tokens': None, 'reasoning_tokens': 0, 'rejected_prediction_tokens': None}, 'prompt_tokens_details': {'audio_tokens': 0, 'cached_tokens': 0}}, 'model_name': 'openai/gpt-4.1-nano', 'system_fingerprint': 'fp_7c233bf9d1', 'id': 'gen-1757385358-73JOj2Lvx1zWrO46XU7U', 'service_tier': None, 'finish_reason': 'stop', 'logprobs': None}, id='run--49c7a99f-3a3a-43e6-bd91-799e07a6eaf9-0', usage_metadata={'input_tokens': 351, 'output_tokens': 15, 'total_tokens': 366, 'input_token_details': {'audio': 0, 'cache_read': 0}, 'output_token_details': {'reasoning': 0}})]}}"
      ]
     },
     "execution_count": 16,
     "metadata": {},
     "output_type": "execute_result"
    }
   ],
   "source": [
    "# Interactive cell - modify the query as needed\n",
    "your_query = \"Calculate the area of a rectangle with width 12.5 and height 8.3\"\n",
    "run_calculation(agent, your_query)"
   ]
  },
  {
   "cell_type": "markdown",
   "metadata": {},
   "source": [
    "## Summary\n",
    "\n",
    "This notebook demonstrated:\n",
    "- ✅ LangGraph ReAct agent with tool integration\n",
    "- ✅ Custom calculator tools using @tool decorator\n",
    "- ✅ Automatic tool selection and execution\n",
    "- ✅ Detailed execution flow visualization\n",
    "- ✅ Support for both integer and decimal calculations\n",
    "- ✅ Multi-step complex calculations\n",
    "\n",
    "The agent successfully uses the calculator tools instead of attempting calculations mentally, ensuring accuracy for mathematical operations."
   ]
  }
 ],
 "metadata": {
  "kernelspec": {
   "display_name": "venv",
   "language": "python",
   "name": "python3"
  },
  "language_info": {
   "codemirror_mode": {
    "name": "ipython",
    "version": 3
   },
   "file_extension": ".py",
   "mimetype": "text/x-python",
   "name": "python",
   "nbconvert_exporter": "python",
   "pygments_lexer": "ipython3",
   "version": "3.11.13"
  }
 },
 "nbformat": 4,
 "nbformat_minor": 4
}
