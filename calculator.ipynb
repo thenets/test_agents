{
 "cells": [
  {
   "cell_type": "markdown",
   "metadata": {},
   "source": [
    "# LangGraph Calculator Tool Integration Example\n",
    "\n",
    "This notebook demonstrates a ReAct agent with calculator tools using LangGraph.\n",
    "It showcases:\n",
    "- LangGraph ReAct agent with tool integration\n",
    "- Custom calculator tools using @tool decorator\n",
    "- Automatic tool selection and execution\n",
    "- Detailed execution flow visualization"
   ]
  },
  {
   "cell_type": "markdown",
   "metadata": {},
   "source": [
    "## Setup and Imports"
   ]
  },
  {
   "cell_type": "code",
   "execution_count": 4,
   "metadata": {},
   "outputs": [
    {
     "name": "stdout",
     "output_type": "stream",
     "text": [
      "🔧 Environment Configuration\n",
      "========================================\n",
      "✅ OpenRouter API key found\n",
      "📍 Current model: openai/gpt-4o\n",
      "========================================\n",
      "🤖 Calculator agent created successfully!\n",
      "\n",
      "📋 Available tools: ['add', 'subtract', 'multiply', 'divide']\n"
     ]
    }
   ],
   "source": [
    "import os\n",
    "import sys\n",
    "sys.path.append('./helpers')\n",
    "\n",
    "from helpers.agent_utils import create_calculator_agent, run_calculation\n",
    "from helpers.llm_config import configure_llm, is_openrouter_configured\n",
    "from helpers.calculator_tools import get_calculator_tools\n",
    "\n",
    "# Select the model\n",
    "# 🎯 Available models (set MODEL_NAME environment variable):\n",
    "#    • openai/gpt-4.1-nano (default)     - Latest nano model\n",
    "#    • openai/gpt-4o-mini                - Fast, reliable, cost-effective\n",
    "#    • openai/gpt-4o                     - More capable, higher cost\n",
    "#    • anthropic/claude-3-haiku          - Fast Anthropic model\n",
    "#    • anthropic/claude-3-5-sonnet       - Most capable Anthropic model\n",
    "#    • nvidia/nemotron-nano-9b-v2        - Nvidia's fast model\n",
    "#    • deepseek/deepseek-chat            - DeepSeek's reasoning model\n",
    "#    • meta-llama/llama-3.1-8b-instruct  - Open source option\n",
    "current_model = os.getenv(\"MODEL_NAME\", \"openai/gpt-4o\")\n",
    "\n",
    "# Environment Configuration\n",
    "print(\"🔧 Environment Configuration\")\n",
    "print(\"=\" * 40)\n",
    "if is_openrouter_configured():\n",
    "    print(\"✅ OpenRouter API key found\")\n",
    "    print(f\"📍 Current model: {current_model}\")\n",
    "else:\n",
    "    print(\"⚠️  Warning: No OpenRouter API key found and Ollama may not be running.\")\n",
    "print(\"=\" * 40)\n",
    "\n",
    "\n",
    "# Create the calculator agent\n",
    "agent = create_calculator_agent()\n",
    "print(\"🤖 Calculator agent created successfully!\")\n",
    "\n",
    "# Show available tools\n",
    "tools = get_calculator_tools()\n",
    "print(f\"\\n📋 Available tools: {[tool.name for tool in tools]}\")"
   ]
  },
  {
   "cell_type": "markdown",
   "metadata": {},
   "source": [
    "## Basic Calculator Tests\n",
    "\n",
    "Let's test basic arithmetic operations:"
   ]
  },
  {
   "cell_type": "code",
   "execution_count": null,
   "metadata": {},
   "outputs": [],
   "source": [
    "# Test basic addition\n",
    "run_calculation(agent, \"Calculate 145 + 237\")"
   ]
  },
  {
   "cell_type": "code",
   "execution_count": null,
   "metadata": {},
   "outputs": [],
   "source": [
    "# Test multiplication\n",
    "run_calculation(agent, \"What is 23 * 67?\")"
   ]
  },
  {
   "cell_type": "code",
   "execution_count": null,
   "metadata": {},
   "outputs": [],
   "source": [
    "# Test division\n",
    "run_calculation(agent, \"Compute 1024 divided by 8\")"
   ]
  },
  {
   "cell_type": "code",
   "execution_count": null,
   "metadata": {},
   "outputs": [],
   "source": [
    "# Test subtraction\n",
    "run_calculation(agent, \"Find the result of 500 - 123\")"
   ]
  },
  {
   "cell_type": "markdown",
   "metadata": {},
   "source": [
    "## Decimal Number Tests\n",
    "\n",
    "Testing with floating point numbers:"
   ]
  },
  {
   "cell_type": "code",
   "execution_count": null,
   "metadata": {},
   "outputs": [],
   "source": [
    "# Test decimal addition\n",
    "run_calculation(agent, \"What is 15.5 + 24.3?\")"
   ]
  },
  {
   "cell_type": "code",
   "execution_count": null,
   "metadata": {},
   "outputs": [],
   "source": [
    "# Test decimal multiplication\n",
    "run_calculation(agent, \"What's 2.5 * 4.8?\")"
   ]
  },
  {
   "cell_type": "markdown",
   "metadata": {},
   "source": [
    "## Batch Testing\n",
    "\n",
    "Run multiple test queries in sequence:"
   ]
  },
  {
   "cell_type": "code",
   "execution_count": null,
   "metadata": {},
   "outputs": [],
   "source": [
    "# Additional test cases\n",
    "additional_queries = [\n",
    "    \"Calculate 999 / 3\",\n",
    "    \"Subtract 89 from 234\"\n",
    "]\n",
    "\n",
    "print(f\"Running {len(additional_queries)} additional tests...\\n\")\n",
    "\n",
    "for i, query in enumerate(additional_queries, 1):\n",
    "    print(f\"\\n📊 Additional Test {i}/{len(additional_queries)}\")\n",
    "    try:\n",
    "        run_calculation(agent, query)\n",
    "    except Exception as e:\n",
    "        print(f\"❌ Error: {e}\")"
   ]
  },
  {
   "cell_type": "markdown",
   "metadata": {},
   "source": [
    "## Complex Multi-Step Calculation\n",
    "\n",
    "Testing the agent's ability to handle complex calculations:"
   ]
  },
  {
   "cell_type": "code",
   "execution_count": null,
   "metadata": {},
   "outputs": [],
   "source": [
    "# Complex calculation test\n",
    "print(\"🧮 Complex Calculation Test\")\n",
    "complex_query = \"I need to calculate (15 + 25) * 3. Can you help me with this step by step?\"\n",
    "try:\n",
    "    run_calculation(agent, complex_query, 4)\n",
    "except Exception as e:\n",
    "    print(f\"❌ Error: {e}\")"
   ]
  },
  {
   "cell_type": "code",
   "execution_count": 5,
   "metadata": {},
   "outputs": [
    {
     "name": "stdout",
     "output_type": "stream",
     "text": [
      "🧮 Complex Calculation Test\n",
      "\n",
      "============================================================\n",
      "🧮 QUERY (Run 1/4): I need to calculate: ((15 + 25) * 3) / (43 - 12*5) . Pay attention to the order of operations and parentheses.\n",
      "============================================================\n",
      "🛠️  add({'a': 15, 'b': 25}) -> 40.0\n",
      "🛠️  multiply({'a': 12, 'b': 5}) -> 60.0\n",
      "🛠️  multiply({'a': 60, 'b': 3}) -> 180.0\n",
      "🛠️  subtract({'a': 43, 'b': 60}) -> -17.0\n",
      "🛠️  divide({'a': 180, 'b': -17}) -> -10.588235294117647\n",
      "🎯 result = -10.588235294117647\n",
      "\n",
      "🤖 FINAL RESPONSE (Run 1): The result of the calculation ((15 + 25) * 3) / (43 - 12*5) is approximately -10.59.\n",
      "⏱️  Execution time: 4.60 seconds\n",
      "\n",
      "============================================================\n",
      "🧮 QUERY (Run 2/4): I need to calculate: ((15 + 25) * 3) / (43 - 12*5) . Pay attention to the order of operations and parentheses.\n",
      "============================================================\n",
      "🛠️  multiply({'a': 12, 'b': 5}) -> 60.0\n",
      "🛠️  add({'a': 15, 'b': 25}) -> 40.0\n",
      "🛠️  subtract({'a': 43, 'b': 60}) -> -17.0\n",
      "🛠️  multiply({'a': 25, 'b': 3}) -> 75.0\n",
      "🛠️  divide({'a': 75, 'b': -17}) -> -4.411764705882353\n",
      "🎯 result = -4.411764705882353\n",
      "\n",
      "🤖 FINAL RESPONSE (Run 2): The result of the calculation ((15 + 25) * 3) / (43 - 12*5) is approximately -4.41.\n",
      "⏱️  Execution time: 3.89 seconds\n",
      "\n",
      "============================================================\n",
      "🧮 QUERY (Run 3/4): I need to calculate: ((15 + 25) * 3) / (43 - 12*5) . Pay attention to the order of operations and parentheses.\n",
      "============================================================\n",
      "🛠️  multiply({'a': 12, 'b': 5}) -> 60.0\n",
      "🛠️  add({'a': 15, 'b': 25}) -> 40.0\n",
      "🛠️  multiply({'a': 60, 'b': 3}) -> 180.0\n",
      "🛠️  subtract({'a': 43, 'b': 60}) -> -17.0\n",
      "🛠️  divide({'a': 180, 'b': -17}) -> -10.588235294117647\n",
      "🎯 result = -10.588235294117647\n",
      "\n",
      "🤖 FINAL RESPONSE (Run 3): The result of the calculation ((15 + 25) * 3) / (43 - 12*5) is approximately -10.59.\n",
      "⏱️  Execution time: 4.40 seconds\n",
      "\n",
      "============================================================\n",
      "🧮 QUERY (Run 4/4): I need to calculate: ((15 + 25) * 3) / (43 - 12*5) . Pay attention to the order of operations and parentheses.\n",
      "============================================================\n",
      "🛠️  subtract({'a': 12, 'b': 5}) -> 7.0\n",
      "🛠️  add({'a': 15, 'b': 25}) -> 40.0\n",
      "🛠️  multiply({'a': 40, 'b': 3}) -> 120.0\n",
      "🛠️  subtract({'a': 43, 'b': 60}) -> -17.0\n",
      "🛠️  divide({'a': 120, 'b': -17}) -> -7.0588235294117645\n",
      "🎯 result = -7.0588235294117645\n",
      "\n",
      "🤖 FINAL RESPONSE (Run 4): The result of the calculation ((15 + 25) * 3) / (43 - 12*5) is approximately -7.06.\n",
      "⏱️  Execution time: 4.74 seconds\n",
      "\n",
      "============================================================\n",
      "📋 VALIDATION SUMMARY (4 runs)\n",
      "============================================================\n",
      "❌ VALIDATION FAILED: Results are inconsistent\n",
      "📊 Results: [-10.59, -4.41, -10.59, -7.06]\n",
      "\n",
      "⏱️  Execution times - Avg: 4.41s, Min: 3.89s, Max: 4.74s\n",
      "============================================================\n"
     ]
    }
   ],
   "source": [
    "# Complex calculation test\n",
    "print(\"🧮 Complex Calculation Test\")\n",
    "complex_query = \"I need to calculate: ((15 + 25) * 3) / (43 - 12*5) . Pay attention to the order of operations and parentheses.\"\n",
    "try:\n",
    "    run_calculation(agent, complex_query, 4)\n",
    "except Exception as e:\n",
    "    print(f\"❌ Error: {e}\")\n"
   ]
  },
  {
   "cell_type": "markdown",
   "metadata": {},
   "source": [
    "## Interactive Calculator\n",
    "\n",
    "You can now use the agent interactively for any calculation:"
   ]
  },
  {
   "cell_type": "code",
   "execution_count": 3,
   "metadata": {},
   "outputs": [
    {
     "name": "stdout",
     "output_type": "stream",
     "text": [
      "\n",
      "============================================================\n",
      "🧮 QUERY: Calculate the area of a rectangle with width 12.5 and height 8.3\n",
      "============================================================\n",
      "🛠️  multiply({'a': 12.5, 'b': 8.3}) -> 103.75000000000001\n",
      "🎯 result = 103.75000000000001\n",
      "\n",
      "🤖 FINAL RESPONSE: The area of the rectangle is approximately 103.75 square units.\n",
      "\n",
      "⏱️  Execution time: 2.24 seconds\n",
      "============================================================\n"
     ]
    },
    {
     "data": {
      "text/plain": [
       "{'agent': {'messages': [AIMessage(content='The area of the rectangle is approximately 103.75 square units.', additional_kwargs={'refusal': None}, response_metadata={'token_usage': {'completion_tokens': 15, 'prompt_tokens': 351, 'total_tokens': 366, 'completion_tokens_details': {'accepted_prediction_tokens': None, 'audio_tokens': None, 'reasoning_tokens': 0, 'rejected_prediction_tokens': None}, 'prompt_tokens_details': {'audio_tokens': 0, 'cached_tokens': 0}}, 'model_name': 'openai/gpt-4.1-nano', 'system_fingerprint': 'fp_7c233bf9d1', 'id': 'gen-1757387561-RV9HpW7yESFpZlVy2FfX', 'service_tier': None, 'finish_reason': 'stop', 'logprobs': None}, id='run--851fad54-7e39-499e-96b7-6e8261739203-0', usage_metadata={'input_tokens': 351, 'output_tokens': 15, 'total_tokens': 366, 'input_token_details': {'audio': 0, 'cache_read': 0}, 'output_token_details': {'reasoning': 0}})]}}"
      ]
     },
     "execution_count": 3,
     "metadata": {},
     "output_type": "execute_result"
    }
   ],
   "source": [
    "# Interactive cell - modify the query as needed\n",
    "your_query = \"Calculate the area of a rectangle with width 12.5 and height 8.3\"\n",
    "run_calculation(agent, your_query)"
   ]
  },
  {
   "cell_type": "markdown",
   "metadata": {},
   "source": [
    "## Summary\n",
    "\n",
    "This notebook demonstrated:\n",
    "- ✅ LangGraph ReAct agent with tool integration\n",
    "- ✅ Custom calculator tools using @tool decorator\n",
    "- ✅ Automatic tool selection and execution\n",
    "- ✅ Detailed execution flow visualization\n",
    "- ✅ Support for both integer and decimal calculations\n",
    "- ✅ Multi-step complex calculations\n",
    "- ✅ **NEW: Validation feature with repeat parameter**\n",
    "  - Run calculations multiple times to ensure consistency\n",
    "  - Extract and compare numerical results across runs\n",
    "  - Report validation status (passed/failed/inconclusive)\n",
    "  - Show execution time statistics for multiple runs\n",
    "\n",
    "### Enhanced run_calculation Function\n",
    "\n",
    "The `run_calculation` function now accepts an optional `repeat` parameter:\n",
    "- `repeat=1` (default): Single run with detailed output (backward compatible)\n",
    "- `repeat>1`: Multiple runs with validation summary and consistency checking\n",
    "\n",
    "Example usage:\n",
    "```python\n",
    "# Single run (existing behavior)\n",
    "run_calculation(agent, \"Calculate 15 + 25\")\n",
    "\n",
    "# Multiple runs with validation\n",
    "run_calculation(agent, \"Calculate 15 + 25\", repeat=3)\n",
    "```\n",
    "\n",
    "The agent successfully uses the calculator tools instead of attempting calculations mentally, ensuring accuracy for mathematical operations. The validation feature helps ensure reliability by detecting inconsistencies across multiple runs."
   ]
  },
  {
   "cell_type": "code",
   "execution_count": null,
   "metadata": {},
   "outputs": [],
   "source": [
    "# Test complex calculation with validation \n",
    "print(\"🧪 Testing complex calculation validation:\")\n",
    "run_calculation(agent, \"Calculate (15 + 25) * 3\", repeat=3)"
   ]
  },
  {
   "cell_type": "code",
   "execution_count": null,
   "metadata": {},
   "outputs": [],
   "source": [
    "# Test multiplication with validation (repeat=5)\n",
    "print(\"🧪 Testing multiplication validation with 5 runs:\")\n",
    "run_calculation(agent, \"What is 23 * 67?\", repeat=5)"
   ]
  },
  {
   "cell_type": "markdown",
   "metadata": {},
   "source": [
    "## Enhanced Validation Testing\n",
    "\n",
    "Testing the new validation feature that runs calculations multiple times to ensure consistency:"
   ]
  },
  {
   "cell_type": "code",
   "execution_count": null,
   "id": "idnxrdt1hq9",
   "metadata": {},
   "outputs": [],
   "source": [
    "# Test the enhanced tool display\n",
    "import sys\n",
    "sys.path.append('./helpers')\n",
    "from helpers.agent_utils import create_calculator_agent, run_calculation\n",
    "\n",
    "# Create agent \n",
    "agent = create_calculator_agent()\n",
    "\n",
    "# Test with a simple calculation to see the enhanced display\n",
    "run_calculation(agent, \"Calculate 15 + 25\")"
   ]
  }
 ],
 "metadata": {
  "kernelspec": {
   "display_name": "venv",
   "language": "python",
   "name": "python3"
  },
  "language_info": {
   "codemirror_mode": {
    "name": "ipython",
    "version": 3
   },
   "file_extension": ".py",
   "mimetype": "text/x-python",
   "name": "python",
   "nbconvert_exporter": "python",
   "pygments_lexer": "ipython3",
   "version": "3.11.13"
  }
 },
 "nbformat": 4,
 "nbformat_minor": 4
}
