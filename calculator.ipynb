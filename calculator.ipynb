{
 "cells": [
  {
   "cell_type": "markdown",
   "metadata": {},
   "source": [
    "# LangGraph Calculator Tool Integration Example\n",
    "\n",
    "This notebook demonstrates a ReAct agent with calculator tools using LangGraph.\n",
    "It showcases:\n",
    "- LangGraph ReAct agent with tool integration\n",
    "- Custom calculator tools using @tool decorator\n",
    "- Automatic tool selection and execution\n",
    "- Detailed execution flow visualization"
   ]
  },
  {
   "cell_type": "markdown",
   "metadata": {},
   "source": [
    "## Setup and Imports"
   ]
  },
  {
   "cell_type": "code",
   "execution_count": 1,
   "metadata": {},
   "outputs": [
    {
     "name": "stdout",
     "output_type": "stream",
     "text": [
      "🔧 Environment Configuration\n",
      "========================================\n",
      "✅ OpenRouter API key found\n",
      "📍 Current model: openai/gpt-4.1-nano\n",
      "========================================\n",
      "🤖 Calculator agent created successfully!\n",
      "\n",
      "📋 Available tools: ['add', 'subtract', 'multiply', 'divide']\n"
     ]
    }
   ],
   "source": [
    "import os\n",
    "import sys\n",
    "sys.path.append('./helpers')\n",
    "\n",
    "\n",
    "# Force reload the module to ensure latest changes\n",
    "import importlib\n",
    "import helpers.agent_utils\n",
    "import helpers.llm_config\n",
    "import helpers.calculator_tools\n",
    "\n",
    "importlib.reload(helpers.agent_utils)\n",
    "importlib.reload(helpers.llm_config)\n",
    "importlib.reload(helpers.calculator_tools)\n",
    "\n",
    "from helpers.agent_utils import run_calculation, create_calculator_agent\n",
    "from helpers.llm_config import is_openrouter_configured\n",
    "from helpers.calculator_tools import get_calculator_tools\n",
    "\n",
    "# Select the model\n",
    "# 🎯 Available models (set MODEL_NAME environment variable):\n",
    "#    • openai/gpt-4.1-nano (default)     - Latest nano model\n",
    "#    • openai/gpt-4o-mini                - Fast, reliable, cost-effective\n",
    "#    • openai/gpt-4o                     - More capable, higher cost\n",
    "#    • anthropic/claude-3-haiku          - Fast Anthropic model\n",
    "#    • anthropic/claude-3-5-sonnet       - Most capable Anthropic model\n",
    "#    • nvidia/nemotron-nano-9b-v2        - Nvidia's fast model\n",
    "#    • deepseek/deepseek-chat            - DeepSeek's reasoning model\n",
    "#    • meta-llama/llama-3.1-8b-instruct  - Open source option\n",
    "current_model = os.getenv(\"MODEL_NAME\", \"openai/gpt-4.1-nano\")\n",
    "\n",
    "# Environment Configuration\n",
    "print(\"🔧 Environment Configuration\")\n",
    "print(\"=\" * 40)\n",
    "if is_openrouter_configured():\n",
    "    print(\"✅ OpenRouter API key found\")\n",
    "    print(f\"📍 Current model: {current_model}\")\n",
    "else:\n",
    "    print(\"⚠️  Warning: No OpenRouter API key found and Ollama may not be running.\")\n",
    "print(\"=\" * 40)\n",
    "\n",
    "\n",
    "# Create the calculator agent\n",
    "agent = create_calculator_agent()\n",
    "print(\"🤖 Calculator agent created successfully!\")\n",
    "\n",
    "# Show available tools\n",
    "tools = get_calculator_tools()\n",
    "print(f\"\\n📋 Available tools: {[tool.name for tool in tools]}\")"
   ]
  },
  {
   "cell_type": "markdown",
   "metadata": {},
   "source": [
    "## Basic Calculator Tests\n",
    "\n",
    "Let's test basic arithmetic operations:"
   ]
  },
  {
   "cell_type": "code",
   "execution_count": 2,
   "metadata": {},
   "outputs": [
    {
     "name": "stdout",
     "output_type": "stream",
     "text": [
      "📐 Extracted expression: 145 + 237\n",
      "🧮 Python eval result: 382.0\n",
      "\n",
      "\n",
      "============================================================\n",
      "🧮 QUERY: Calculate 145 + 237\n",
      "============================================================\n",
      "🛠️  add({'a': 145, 'b': 237}) -> 382.0\n",
      "🎯 result = 382.0\n",
      "\n",
      "🤖 FINAL RESPONSE: The result of 145 + 237 is 382.\n",
      "\n",
      "⏱️  Execution time: 1.34 seconds\n",
      "============================================================\n"
     ]
    },
    {
     "data": {
      "text/plain": [
       "{'agent': {'messages': [AIMessage(content='The result of 145 + 237 is 382.', additional_kwargs={'refusal': None}, response_metadata={'token_usage': {'completion_tokens': 13, 'prompt_tokens': 331, 'total_tokens': 344, 'completion_tokens_details': {'accepted_prediction_tokens': None, 'audio_tokens': None, 'reasoning_tokens': 0, 'rejected_prediction_tokens': None}, 'prompt_tokens_details': {'audio_tokens': 0, 'cached_tokens': 0}}, 'model_name': 'openai/gpt-4.1-nano', 'system_fingerprint': 'fp_7c233bf9d1', 'id': 'gen-1757388920-nrgz61fcEfmyhkcMwmor', 'service_tier': None, 'finish_reason': 'stop', 'logprobs': None}, id='run--9d1481f7-19b3-4140-a12d-9a28fbeabf1d-0', usage_metadata={'input_tokens': 331, 'output_tokens': 13, 'total_tokens': 344, 'input_token_details': {'audio': 0, 'cache_read': 0}, 'output_token_details': {'reasoning': 0}})]}}"
      ]
     },
     "execution_count": 2,
     "metadata": {},
     "output_type": "execute_result"
    }
   ],
   "source": [
    "# Test basic addition\n",
    "run_calculation(agent, \"Calculate 145 + 237\")"
   ]
  },
  {
   "cell_type": "code",
   "execution_count": null,
   "metadata": {},
   "outputs": [],
   "source": [
    "# Test multiplication\n",
    "run_calculation(agent, \"What is 23 * 67?\")"
   ]
  },
  {
   "cell_type": "code",
   "execution_count": null,
   "metadata": {},
   "outputs": [],
   "source": [
    "# Test division\n",
    "run_calculation(agent, \"Compute 1024 divided by 8\")"
   ]
  },
  {
   "cell_type": "code",
   "execution_count": null,
   "metadata": {},
   "outputs": [],
   "source": [
    "# Test subtraction\n",
    "run_calculation(agent, \"Find the result of 500 - 123\")"
   ]
  },
  {
   "cell_type": "code",
   "execution_count": null,
   "metadata": {},
   "outputs": [],
   "source": [
    "# Test decimal addition\n",
    "run_calculation(agent, \"What is 15.5 + 24.3?\")"
   ]
  },
  {
   "cell_type": "code",
   "execution_count": null,
   "metadata": {},
   "outputs": [],
   "source": [
    "# Test decimal multiplication\n",
    "run_calculation(agent, \"What's 2.5 * 4.8?\")"
   ]
  },
  {
   "cell_type": "code",
   "execution_count": null,
   "metadata": {},
   "outputs": [],
   "source": [
    "# Batch test\n",
    "additional_queries = [\n",
    "    \"Calculate 999 / 3\",\n",
    "    \"Subtract 89 from 234\"\n",
    "]\n",
    "\n",
    "print(f\"Running {len(additional_queries)} additional tests...\\n\")\n",
    "\n",
    "for i, query in enumerate(additional_queries, 1):\n",
    "    print(f\"\\n📊 Additional Test {i}/{len(additional_queries)}\")\n",
    "    try:\n",
    "        run_calculation(agent, query)\n",
    "    except Exception as e:\n",
    "        print(f\"❌ Error: {e}\")"
   ]
  },
  {
   "cell_type": "markdown",
   "metadata": {},
   "source": [
    "## Complex Multi-Step Calculation\n",
    "\n",
    "Testing the agent's ability to handle complex calculations:"
   ]
  },
  {
   "cell_type": "code",
   "execution_count": null,
   "metadata": {},
   "outputs": [],
   "source": [
    "# Complex calculation test\n",
    "print(\"🧮 Complex Calculation Test\")\n",
    "complex_query = \"I need to calculate (15 + 25) * 3. Can you help me with this step by step?\"\n",
    "try:\n",
    "    run_calculation(agent, complex_query, 4)\n",
    "except Exception as e:\n",
    "    print(f\"❌ Error: {e}\")"
   ]
  },
  {
   "cell_type": "code",
   "execution_count": null,
   "metadata": {},
   "outputs": [],
   "source": [
    "# Complex calculation test\n",
    "print(\"🧮 Complex Calculation Test\")\n",
    "complex_query = \"I need to calculate: ((15 + 25) * 3)/(43 - 12*5) . Pay attention to the order of operations and parentheses.\"\n",
    "run_calculation(agent, complex_query)\n"
   ]
  },
  {
   "cell_type": "code",
   "execution_count": null,
   "metadata": {},
   "outputs": [],
   "source": [
    "# Interactive cell - modify the query as needed\n",
    "your_query = \"Calculate the area of a rectangle with width 12.5 and height 8.3\"\n",
    "run_calculation(agent, your_query)"
   ]
  },
  {
   "cell_type": "code",
   "execution_count": null,
   "metadata": {},
   "outputs": [],
   "source": [
    "# Test complex calculation with validation \n",
    "print(\"🧪 Testing complex calculation validation:\")\n",
    "run_calculation(agent, \"Calculate (15 + 25) * 3\", repeat=3)"
   ]
  },
  {
   "cell_type": "code",
   "execution_count": null,
   "metadata": {},
   "outputs": [],
   "source": [
    "# Test multiplication with validation (repeat=5)\n",
    "print(\"🧪 Testing multiplication validation with 5 runs:\")\n",
    "run_calculation(agent, \"What is 23 * 67?\", repeat=5)"
   ]
  },
  {
   "cell_type": "markdown",
   "metadata": {},
   "source": [
    "## Enhanced Validation Testing\n",
    "\n",
    "Testing the new validation feature that runs calculations multiple times to ensure consistency:"
   ]
  },
  {
   "cell_type": "code",
   "execution_count": null,
   "id": "idnxrdt1hq9",
   "metadata": {},
   "outputs": [],
   "source": [
    "# Test the enhanced tool display\n",
    "import sys\n",
    "sys.path.append('./helpers')\n",
    "from helpers.agent_utils import create_calculator_agent, run_calculation\n",
    "\n",
    "# Create agent \n",
    "agent = create_calculator_agent()\n",
    "\n",
    "# Test with a simple calculation to see the enhanced display\n",
    "run_calculation(agent, \"Calculate 15 + 25\")"
   ]
  },
  {
   "cell_type": "code",
   "execution_count": null,
   "id": "a646nw0iak4",
   "metadata": {},
   "outputs": [],
   "source": [
    "# Let's test the exact calculation from the notebook to see what should happen\n",
    "expression = \"((15 + 25) * 3)/(43 - 12*5)\"\n",
    "python_result = eval(expression)\n",
    "print(f\"Python eval: {python_result}\")\n",
    "\n",
    "# Let's see how the agent calculated it step by step\n",
    "print(\"\\nAgent's steps (from notebook):\")\n",
    "print(\"🛠️ add({'a': 15, 'b': 25}) -> 40.0\")\n",
    "print(\"🛠️ subtract({'a': 43, 'b': 12}) -> 31.0\")  # ERROR! Should be 43 - (12*5) = 43-60 = -17\n",
    "print(\"🛠️ multiply({'a': 25, 'b': 12}) -> 300.0\")\n",
    "print(\"🛠️ multiply({'a': 40, 'b': 3}) -> 120.0\")\n",
    "print(\"🛠️ divide({'a': 120, 'b': 31}) -> 3.870967741935484\")\n",
    "\n",
    "print(f\"\\nCorrect calculation:\")\n",
    "print(f\"(15 + 25) = {15 + 25}\")\n",
    "print(f\"12 * 5 = {12 * 5}\")\n",
    "print(f\"43 - (12*5) = {43 - (12*5)}\")\n",
    "print(f\"((15 + 25) * 3) = {(15 + 25) * 3}\")\n",
    "print(f\"Final: {((15 + 25) * 3)}/{(43 - (12*5))} = {((15 + 25) * 3)/(43 - (12*5))}\")"
   ]
  }
 ],
 "metadata": {
  "kernelspec": {
   "display_name": "venv",
   "language": "python",
   "name": "python3"
  },
  "language_info": {
   "codemirror_mode": {
    "name": "ipython",
    "version": 3
   },
   "file_extension": ".py",
   "mimetype": "text/x-python",
   "name": "python",
   "nbconvert_exporter": "python",
   "pygments_lexer": "ipython3",
   "version": "3.11.13"
  }
 },
 "nbformat": 4,
 "nbformat_minor": 4
}
