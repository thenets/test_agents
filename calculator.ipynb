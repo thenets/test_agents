{
 "cells": [
  {
   "cell_type": "markdown",
   "metadata": {},
   "source": [
    "# LangGraph Calculator Tool Integration Example\n",
    "\n",
    "This notebook demonstrates a ReAct agent with calculator tools using LangGraph.\n",
    "It showcases:\n",
    "- LangGraph ReAct agent with tool integration\n",
    "- Custom calculator tools using @tool decorator\n",
    "- Automatic tool selection and execution\n",
    "- Detailed execution flow visualization"
   ]
  },
  {
   "cell_type": "markdown",
   "metadata": {},
   "source": [
    "## Setup and Imports"
   ]
  },
  {
   "cell_type": "code",
   "execution_count": 9,
   "metadata": {},
   "outputs": [
    {
     "name": "stdout",
     "output_type": "stream",
     "text": [
      "🔧 Environment Configuration\n",
      "========================================\n",
      "✅ OpenRouter API key found\n",
      "📍 Current model: openai/gpt-4.1-nano\n",
      "========================================\n",
      "🤖 Calculator agent created successfully!\n",
      "\n",
      "📋 Available tools: ['add', 'subtract', 'multiply', 'divide']\n"
     ]
    }
   ],
   "source": [
    "import os\n",
    "import sys\n",
    "sys.path.append('./helpers')\n",
    "\n",
    "\n",
    "# Force reload the module to ensure latest changes\n",
    "import importlib\n",
    "import helpers.agent_utils\n",
    "import helpers.llm_config\n",
    "import helpers.calculator_tools\n",
    "\n",
    "importlib.reload(helpers.agent_utils)\n",
    "importlib.reload(helpers.llm_config)\n",
    "importlib.reload(helpers.calculator_tools)\n",
    "\n",
    "from helpers.agent_utils import run_calculation, create_calculator_agent\n",
    "from helpers.llm_config import is_openrouter_configured\n",
    "from helpers.calculator_tools import get_calculator_tools\n",
    "\n",
    "# Select the model\n",
    "# 🎯 Available models (set MODEL_NAME environment variable):\n",
    "#    • openai/gpt-4.1-nano (default)     - Latest nano model\n",
    "#    • openai/gpt-4o-mini                - Fast, reliable, cost-effective\n",
    "#    • openai/gpt-4o                     - More capable, higher cost\n",
    "#    • anthropic/claude-3-haiku          - Fast Anthropic model\n",
    "#    • anthropic/claude-3-5-sonnet       - Most capable Anthropic model\n",
    "#    • nvidia/nemotron-nano-9b-v2        - Nvidia's fast model\n",
    "#    • deepseek/deepseek-chat            - DeepSeek's reasoning model\n",
    "#    • meta-llama/llama-3.1-8b-instruct  - Open source option\n",
    "current_model = os.getenv(\"MODEL_NAME\", \"openai/gpt-4.1-nano\")\n",
    "\n",
    "# Environment Configuration\n",
    "print(\"🔧 Environment Configuration\")\n",
    "print(\"=\" * 40)\n",
    "if is_openrouter_configured():\n",
    "    print(\"✅ OpenRouter API key found\")\n",
    "    print(f\"📍 Current model: {current_model}\")\n",
    "else:\n",
    "    print(\"⚠️  Warning: No OpenRouter API key found and Ollama may not be running.\")\n",
    "print(\"=\" * 40)\n",
    "\n",
    "\n",
    "# Create the calculator agent\n",
    "agent = create_calculator_agent()\n",
    "print(\"🤖 Calculator agent created successfully!\")\n",
    "\n",
    "# Show available tools\n",
    "tools = get_calculator_tools()\n",
    "print(f\"\\n📋 Available tools: {[tool.name for tool in tools]}\")"
   ]
  },
  {
   "cell_type": "markdown",
   "metadata": {},
   "source": [
    "## Basic Calculator Tests\n",
    "\n",
    "Let's test basic arithmetic operations:"
   ]
  },
  {
   "cell_type": "code",
   "execution_count": 10,
   "metadata": {},
   "outputs": [
    {
     "name": "stdout",
     "output_type": "stream",
     "text": [
      "📐 Extracted expression: 145 + 237\n",
      "🧮 Python eval result: 382.0\n",
      "\n",
      "\n",
      "============================================================\n",
      "🧮 QUERY: Calculate 145 + 237\n",
      "============================================================\n",
      "🛠️  add({'a': 145, 'b': 237}) -> 382.0\n",
      "🎯 result = 382.0\n",
      "\n",
      "🤖 FINAL RESPONSE: The result of 145 + 237 is 382.\n",
      "🔍 VALIDATION: ✅ correct\n",
      "✅ Calculation completed successfully!\n",
      "\n",
      "⏱️  Execution time: 1.40 seconds\n",
      "============================================================\n"
     ]
    },
    {
     "data": {
      "text/plain": [
       "{'agent': {'messages': [AIMessage(content='The result of 145 + 237 is 382.', additional_kwargs={'refusal': None}, response_metadata={'token_usage': {'completion_tokens': 13, 'prompt_tokens': 331, 'total_tokens': 344, 'completion_tokens_details': {'accepted_prediction_tokens': None, 'audio_tokens': None, 'reasoning_tokens': 0, 'rejected_prediction_tokens': None}, 'prompt_tokens_details': {'audio_tokens': 0, 'cached_tokens': 0}}, 'model_name': 'openai/gpt-4.1-nano', 'system_fingerprint': 'fp_c4c155951e', 'id': 'gen-1757389671-ZLgEdWwjfijgrIkEi7ZS', 'service_tier': None, 'finish_reason': 'stop', 'logprobs': None}, id='run--38deedee-0638-4d1a-9a7f-620df4e54e56-0', usage_metadata={'input_tokens': 331, 'output_tokens': 13, 'total_tokens': 344, 'input_token_details': {'audio': 0, 'cache_read': 0}, 'output_token_details': {'reasoning': 0}})]}}"
      ]
     },
     "execution_count": 10,
     "metadata": {},
     "output_type": "execute_result"
    }
   ],
   "source": [
    "# Test basic addition\n",
    "run_calculation(agent, \"Calculate 145 + 237\")"
   ]
  },
  {
   "cell_type": "code",
   "execution_count": 11,
   "metadata": {},
   "outputs": [
    {
     "name": "stdout",
     "output_type": "stream",
     "text": [
      "📐 Extracted expression: 23 * 67\n",
      "🧮 Python eval result: 1541.0\n",
      "\n",
      "\n",
      "============================================================\n",
      "🧮 QUERY: What is 23 * 67?\n",
      "============================================================\n",
      "🛠️  multiply({'a': 23, 'b': 67}) -> 1541.0\n",
      "🎯 result = 1541.0\n",
      "\n",
      "🤖 FINAL RESPONSE: The result of 23 multiplied by 67 is 1541.\n",
      "🔍 VALIDATION: ✅ correct\n",
      "✅ Calculation completed successfully!\n",
      "\n",
      "⏱️  Execution time: 1.82 seconds\n",
      "============================================================\n"
     ]
    },
    {
     "data": {
      "text/plain": [
       "{'agent': {'messages': [AIMessage(content='The result of 23 multiplied by 67 is 1541.', additional_kwargs={'refusal': None}, response_metadata={'token_usage': {'completion_tokens': 15, 'prompt_tokens': 334, 'total_tokens': 349, 'completion_tokens_details': {'accepted_prediction_tokens': None, 'audio_tokens': None, 'reasoning_tokens': 0, 'rejected_prediction_tokens': None}, 'prompt_tokens_details': {'audio_tokens': 0, 'cached_tokens': 0}}, 'model_name': 'openai/gpt-4.1-nano', 'system_fingerprint': 'fp_c4c155951e', 'id': 'gen-1757389673-Do6hZJ4CIT78Sra92f7P', 'service_tier': None, 'finish_reason': 'stop', 'logprobs': None}, id='run--55b6f106-a933-405d-a9ff-de7783a12c59-0', usage_metadata={'input_tokens': 334, 'output_tokens': 15, 'total_tokens': 349, 'input_token_details': {'audio': 0, 'cache_read': 0}, 'output_token_details': {'reasoning': 0}})]}}"
      ]
     },
     "execution_count": 11,
     "metadata": {},
     "output_type": "execute_result"
    }
   ],
   "source": [
    "# Test multiplication\n",
    "run_calculation(agent, \"What is 23 * 67?\")"
   ]
  },
  {
   "cell_type": "code",
   "execution_count": 12,
   "metadata": {},
   "outputs": [
    {
     "name": "stdout",
     "output_type": "stream",
     "text": [
      "📐 Extracted expression: 1024 / 8\n",
      "🧮 Python eval result: 128.0\n",
      "\n",
      "\n",
      "============================================================\n",
      "🧮 QUERY: Compute 1024 divided by 8\n",
      "============================================================\n",
      "🛠️  divide({'a': 1024, 'b': 8}) -> 128.0\n",
      "🎯 result = 128.0\n",
      "\n",
      "🤖 FINAL RESPONSE: 1024 divided by 8 equals 128.\n",
      "🔍 VALIDATION: ✅ correct\n",
      "✅ Calculation completed successfully!\n",
      "\n",
      "⏱️  Execution time: 1.18 seconds\n",
      "============================================================\n"
     ]
    },
    {
     "data": {
      "text/plain": [
       "{'agent': {'messages': [AIMessage(content='1024 divided by 8 equals 128.', additional_kwargs={'refusal': None}, response_metadata={'token_usage': {'completion_tokens': 11, 'prompt_tokens': 334, 'total_tokens': 345, 'completion_tokens_details': {'accepted_prediction_tokens': None, 'audio_tokens': None, 'reasoning_tokens': 0, 'rejected_prediction_tokens': None}, 'prompt_tokens_details': {'audio_tokens': 0, 'cached_tokens': 0}}, 'model_name': 'openai/gpt-4.1-nano', 'system_fingerprint': 'fp_c4c155951e', 'id': 'gen-1757389675-UyETQv73kr4O3VmlSBLu', 'service_tier': None, 'finish_reason': 'stop', 'logprobs': None}, id='run--d42fb7f8-d906-48f9-bceb-181145758e60-0', usage_metadata={'input_tokens': 334, 'output_tokens': 11, 'total_tokens': 345, 'input_token_details': {'audio': 0, 'cache_read': 0}, 'output_token_details': {'reasoning': 0}})]}}"
      ]
     },
     "execution_count": 12,
     "metadata": {},
     "output_type": "execute_result"
    }
   ],
   "source": [
    "# Test division\n",
    "run_calculation(agent, \"Compute 1024 divided by 8\")"
   ]
  },
  {
   "cell_type": "code",
   "execution_count": 13,
   "metadata": {},
   "outputs": [
    {
     "name": "stdout",
     "output_type": "stream",
     "text": [
      "📐 Extracted expression: 500 - 123\n",
      "🧮 Python eval result: 377.0\n",
      "\n",
      "\n",
      "============================================================\n",
      "🧮 QUERY: Find the result of 500 - 123\n",
      "============================================================\n",
      "🛠️  subtract({'a': 500, 'b': 123}) -> 377.0\n",
      "🎯 result = 377.0\n",
      "\n",
      "🤖 FINAL RESPONSE: The result of 500 - 123 is 377.\n",
      "🔍 VALIDATION: ✅ correct\n",
      "✅ Calculation completed successfully!\n",
      "\n",
      "⏱️  Execution time: 1.33 seconds\n",
      "============================================================\n"
     ]
    },
    {
     "data": {
      "text/plain": [
       "{'agent': {'messages': [AIMessage(content='The result of 500 - 123 is 377.', additional_kwargs={'refusal': None}, response_metadata={'token_usage': {'completion_tokens': 13, 'prompt_tokens': 334, 'total_tokens': 347, 'completion_tokens_details': {'accepted_prediction_tokens': None, 'audio_tokens': None, 'reasoning_tokens': 0, 'rejected_prediction_tokens': None}, 'prompt_tokens_details': {'audio_tokens': 0, 'cached_tokens': 0}}, 'model_name': 'openai/gpt-4.1-nano', 'system_fingerprint': 'fp_7c233bf9d1', 'id': 'gen-1757389677-AT1tDckDFneuhUHm5PxL', 'service_tier': None, 'finish_reason': 'stop', 'logprobs': None}, id='run--9b6bae13-16b4-4654-bcf6-71cd53a54746-0', usage_metadata={'input_tokens': 334, 'output_tokens': 13, 'total_tokens': 347, 'input_token_details': {'audio': 0, 'cache_read': 0}, 'output_token_details': {'reasoning': 0}})]}}"
      ]
     },
     "execution_count": 13,
     "metadata": {},
     "output_type": "execute_result"
    }
   ],
   "source": [
    "# Test subtraction\n",
    "run_calculation(agent, \"Find the result of 500 - 123\")"
   ]
  },
  {
   "cell_type": "code",
   "execution_count": 14,
   "metadata": {},
   "outputs": [
    {
     "name": "stdout",
     "output_type": "stream",
     "text": [
      "📐 Extracted expression: 15.5 + 24.3\n",
      "🧮 Python eval result: 39.8\n",
      "\n",
      "\n",
      "============================================================\n",
      "🧮 QUERY: What is 15.5 + 24.3?\n",
      "============================================================\n",
      "🛠️  add({'a': 15.5, 'b': 24.3}) -> 39.8\n",
      "🎯 result = 39.8\n",
      "\n",
      "🤖 FINAL RESPONSE: The sum of 15.5 and 24.3 is 39.8.\n",
      "🔍 VALIDATION: ✅ correct\n",
      "✅ Calculation completed successfully!\n",
      "\n",
      "⏱️  Execution time: 1.29 seconds\n",
      "============================================================\n"
     ]
    },
    {
     "data": {
      "text/plain": [
       "{'agent': {'messages': [AIMessage(content='The sum of 15.5 and 24.3 is 39.8.', additional_kwargs={'refusal': None}, response_metadata={'token_usage': {'completion_tokens': 19, 'prompt_tokens': 341, 'total_tokens': 360, 'completion_tokens_details': {'accepted_prediction_tokens': None, 'audio_tokens': None, 'reasoning_tokens': 0, 'rejected_prediction_tokens': None}, 'prompt_tokens_details': {'audio_tokens': 0, 'cached_tokens': 0}}, 'model_name': 'openai/gpt-4.1-nano', 'system_fingerprint': 'fp_7c233bf9d1', 'id': 'gen-1757389679-eG5gU6Tup6g5rHIlY0WP', 'service_tier': None, 'finish_reason': 'stop', 'logprobs': None}, id='run--dd972562-f127-4e2f-8c1b-d1c3e772ef0f-0', usage_metadata={'input_tokens': 341, 'output_tokens': 19, 'total_tokens': 360, 'input_token_details': {'audio': 0, 'cache_read': 0}, 'output_token_details': {'reasoning': 0}})]}}"
      ]
     },
     "execution_count": 14,
     "metadata": {},
     "output_type": "execute_result"
    }
   ],
   "source": [
    "# Test decimal addition\n",
    "run_calculation(agent, \"What is 15.5 + 24.3?\")"
   ]
  },
  {
   "cell_type": "code",
   "execution_count": 15,
   "metadata": {},
   "outputs": [
    {
     "name": "stdout",
     "output_type": "stream",
     "text": [
      "📐 Extracted expression: 2.5 * 4.8\n",
      "🧮 Python eval result: 12.0\n",
      "\n",
      "\n",
      "============================================================\n",
      "🧮 QUERY: What's 2.5 * 4.8?\n",
      "============================================================\n",
      "🛠️  multiply({'a': 2.5, 'b': 4.8}) -> 12.0\n",
      "🎯 result = 12.0\n",
      "\n",
      "🤖 FINAL RESPONSE: 2.5 multiplied by 4.8 equals 12.\n",
      "🔍 VALIDATION: ✅ correct\n",
      "✅ Calculation completed successfully!\n",
      "\n",
      "⏱️  Execution time: 1.81 seconds\n",
      "============================================================\n"
     ]
    },
    {
     "data": {
      "text/plain": [
       "{'agent': {'messages': [AIMessage(content='2.5 multiplied by 4.8 equals 12.', additional_kwargs={'refusal': None}, response_metadata={'token_usage': {'completion_tokens': 14, 'prompt_tokens': 340, 'total_tokens': 354, 'completion_tokens_details': {'accepted_prediction_tokens': None, 'audio_tokens': None, 'reasoning_tokens': 0, 'rejected_prediction_tokens': None}, 'prompt_tokens_details': {'audio_tokens': 0, 'cached_tokens': 0}}, 'model_name': 'openai/gpt-4.1-nano', 'system_fingerprint': 'fp_7c233bf9d1', 'id': 'gen-1757389681-kssPi9kGStZKA6OfV6wq', 'service_tier': None, 'finish_reason': 'stop', 'logprobs': None}, id='run--0c8d18a9-f7d5-42d1-bd51-2e4694cbdfcb-0', usage_metadata={'input_tokens': 340, 'output_tokens': 14, 'total_tokens': 354, 'input_token_details': {'audio': 0, 'cache_read': 0}, 'output_token_details': {'reasoning': 0}})]}}"
      ]
     },
     "execution_count": 15,
     "metadata": {},
     "output_type": "execute_result"
    }
   ],
   "source": [
    "# Test decimal multiplication\n",
    "run_calculation(agent, \"What's 2.5 * 4.8?\")"
   ]
  },
  {
   "cell_type": "code",
   "execution_count": null,
   "metadata": {},
   "outputs": [
    {
     "name": "stdout",
     "output_type": "stream",
     "text": [
      "Running 2 additional tests...\n",
      "\n",
      "\n",
      "📊 Additional Test 1/2\n",
      "📐 Extracted expression: 999 / 3\n",
      "🧮 Python eval result: 333.0\n",
      "\n",
      "\n",
      "============================================================\n",
      "🧮 QUERY: Calculate 999 / 3\n",
      "============================================================\n",
      "🛠️  divide({'a': 999, 'b': 3}) -> 333.0\n",
      "🎯 result = 333.0\n",
      "\n",
      "🤖 FINAL RESPONSE: The result of dividing 999 by 3 is 333.\n",
      "🔍 VALIDATION: ✅ correct\n",
      "✅ Calculation completed successfully!\n",
      "\n",
      "⏱️  Execution time: 1.53 seconds\n",
      "============================================================\n",
      "\n",
      "📊 Additional Test 2/2\n",
      "📐 Extracted expression: 234 - 89\n",
      "🧮 Python eval result: 145.0\n",
      "\n",
      "\n",
      "============================================================\n",
      "🧮 QUERY: Subtract 89 from 234\n",
      "============================================================\n",
      "🛠️  subtract({'a': 234, 'b': 89}) -> 145.0\n",
      "🎯 result = 145.0\n",
      "\n",
      "🤖 FINAL RESPONSE: The result of subtracting 89 from 234 is 145.\n",
      "🔍 VALIDATION: ✅ correct\n",
      "✅ Calculation completed successfully!\n",
      "\n",
      "⏱️  Execution time: 1.45 seconds\n",
      "============================================================\n"
     ]
    }
   ],
   "source": [
    "# Batch test\n",
    "additional_queries = [\n",
    "    \"Calculate 999 / 3\",\n",
    "    \"Subtract 89 from 234\"\n",
    "]\n",
    "\n",
    "print(f\"Running {len(additional_queries)} additional tests...\\n\")\n",
    "\n",
    "for i, query in enumerate(additional_queries, 1):\n",
    "    print(f\"\\n📊 Additional Test {i}/{len(additional_queries)}\")\n",
    "    run_calculation(agent, query)"
   ]
  },
  {
   "cell_type": "markdown",
   "metadata": {},
   "source": [
    "## Complex Multi-Step Calculation\n",
    "\n",
    "Testing the agent's ability to handle complex calculations:"
   ]
  },
  {
   "cell_type": "code",
   "execution_count": null,
   "metadata": {},
   "outputs": [
    {
     "name": "stdout",
     "output_type": "stream",
     "text": [
      "🧮 Complex Calculation Test\n",
      "📐 Extracted expression: (15 + 25) * 3\n",
      "🧮 Python eval result: 120.0\n",
      "\n",
      "\n",
      "============================================================\n",
      "🧮 QUERY (Run 1/4): I need to calculate (15 + 25) * 3. Can you help me with this step by step?\n",
      "============================================================\n",
      "🛠️  add({'a': 15, 'b': 25}) -> 40.0\n",
      "🛠️  multiply({'a': 3, 'b': 1}) -> 3.0\n",
      "🎯 result = 3.0\n",
      "\n",
      "🤖 FINAL RESPONSE (Run 1): First, we add 15 and 25, which gives us 40. Then, we multiply 40 by 3, resulting in 120.\n",
      "⏱️  Execution time: 1.96 seconds\n",
      "\n",
      "============================================================\n",
      "🧮 QUERY (Run 2/4): I need to calculate (15 + 25) * 3. Can you help me with this step by step?\n",
      "============================================================\n",
      "🛠️  multiply({'a': 3, 'b': 1}) -> 3.0\n",
      "🛠️  add({'a': 15, 'b': 25}) -> 40.0\n",
      "🛠️  multiply({'a': 40, 'b': 3}) -> 120.0\n",
      "🎯 result = 120.0\n",
      "\n",
      "🤖 FINAL RESPONSE (Run 2): The result of (15 + 25) * 3 is 120.\n",
      "⏱️  Execution time: 5.13 seconds\n",
      "\n",
      "============================================================\n",
      "🧮 QUERY (Run 3/4): I need to calculate (15 + 25) * 3. Can you help me with this step by step?\n",
      "============================================================\n",
      "🛠️  multiply({'a': 3, 'b': 1}) -> 3.0\n",
      "🛠️  add({'a': 15, 'b': 25}) -> 40.0\n",
      "🛠️  multiply({'a': 40, 'b': 3}) -> 120.0\n",
      "🎯 result = 120.0\n",
      "\n",
      "🤖 FINAL RESPONSE (Run 3): The result of (15 + 25) * 3 is 120.\n",
      "⏱️  Execution time: 8.09 seconds\n",
      "\n",
      "============================================================\n",
      "🧮 QUERY (Run 4/4): I need to calculate (15 + 25) * 3. Can you help me with this step by step?\n",
      "============================================================\n",
      "🛠️  add({'a': 15, 'b': 25}) -> 40.0\n",
      "🛠️  multiply({'a': 3, 'b': 1}) -> 3.0\n",
      "🛠️  multiply({'a': 40, 'b': 3}) -> 120.0\n",
      "🎯 result = 120.0\n",
      "\n",
      "🤖 FINAL RESPONSE (Run 4): The result of (15 + 25) * 3 is 120.\n",
      "⏱️  Execution time: 4.90 seconds\n",
      "\n",
      "============================================================\n",
      "📋 VALIDATION SUMMARY (4 runs)\n",
      "============================================================\n",
      "🔍 VALIDATION: ✅ correct (all 4 runs consistent)\n",
      "\n",
      "⏱️  Execution times - Avg: 5.02s, Min: 1.96s, Max: 8.09s\n",
      "============================================================\n"
     ]
    }
   ],
   "source": [
    "# Complex calculation test\n",
    "print(\"🧮 Complex Calculation Test\")\n",
    "complex_query = \"I need to calculate (15 + 25) * 3. Can you help me with this step by step?\"\n",
    "run_calculation(agent, complex_query, 4)"
   ]
  },
  {
   "cell_type": "code",
   "execution_count": 18,
   "metadata": {},
   "outputs": [
    {
     "name": "stdout",
     "output_type": "stream",
     "text": [
      "🧮 Complex Calculation Test\n",
      "📐 Extracted expression: ((15 + 25) * 3)/(43 - 12*5)\n",
      "🧮 Python eval result: -7.0588235294117645\n",
      "\n",
      "\n",
      "============================================================\n",
      "🧮 QUERY: I need to calculate: ((15 + 25) * 3)/(43 - 12*5).\n",
      "============================================================\n",
      "🛠️  add({'a': 15, 'b': 25}) -> 40.0\n",
      "🛠️  subtract({'a': 43, 'b': 12}) -> 31.0\n",
      "🛠️  multiply({'a': 12, 'b': 5}) -> 60.0\n",
      "🛠️  subtract({'a': 31, 'b': 60}) -> -29.0\n",
      "🛠️  divide({'a': 40, 'b': -29}) -> -1.3793103448275863\n",
      "🎯 result = -1.3793103448275863\n",
      "\n",
      "🤖 FINAL RESPONSE: The result of the calculation ((15 + 25) * 3) / (43 - 12 * 5) is approximately -1.38.\n",
      "🔍 VALIDATION: ❌ wrong (Agent: -1.38, Python: -7.058824)\n",
      "✅ Calculation completed successfully!\n",
      "\n",
      "⏱️  Execution time: 9.04 seconds\n",
      "============================================================\n"
     ]
    },
    {
     "data": {
      "text/plain": [
       "{'agent': {'messages': [AIMessage(content='The result of the calculation ((15 + 25) * 3) / (43 - 12 * 5) is approximately -1.38.', additional_kwargs={'refusal': None}, response_metadata={'token_usage': {'completion_tokens': 33, 'prompt_tokens': 479, 'total_tokens': 512, 'completion_tokens_details': {'accepted_prediction_tokens': None, 'audio_tokens': None, 'reasoning_tokens': 0, 'rejected_prediction_tokens': None}, 'prompt_tokens_details': {'audio_tokens': 0, 'cached_tokens': 0}}, 'model_name': 'openai/gpt-4.1-nano', 'system_fingerprint': 'fp_7c233bf9d1', 'id': 'gen-1757389715-qedJJZUOERL9a5OWifq6', 'service_tier': None, 'finish_reason': 'stop', 'logprobs': None}, id='run--8d07f598-ccba-49c1-847b-e1b0496f5ab3-0', usage_metadata={'input_tokens': 479, 'output_tokens': 33, 'total_tokens': 512, 'input_token_details': {'audio': 0, 'cache_read': 0}, 'output_token_details': {'reasoning': 0}})]}}"
      ]
     },
     "execution_count": 18,
     "metadata": {},
     "output_type": "execute_result"
    }
   ],
   "source": [
    "# Complex calculation test\n",
    "print(\"🧮 Complex Calculation Test\")\n",
    "complex_query = \"I need to calculate: ((15 + 25) * 3)/(43 - 12*5).\"\n",
    "run_calculation(agent, complex_query)\n"
   ]
  },
  {
   "cell_type": "code",
   "execution_count": 19,
   "metadata": {},
   "outputs": [
    {
     "name": "stdout",
     "output_type": "stream",
     "text": [
      "📐 Extracted expression: 12.5 * 8.3\n",
      "🧮 Python eval result: 103.75000000000001\n",
      "\n",
      "\n",
      "============================================================\n",
      "🧮 QUERY: Calculate the area of a rectangle with width 12.5 and height 8.3\n",
      "============================================================\n",
      "🛠️  multiply({'a': 12.5, 'b': 8.3}) -> 103.75000000000001\n",
      "🛠️  multiply({'a': 12.5, 'b': 8.3}) -> 103.75000000000001\n",
      "🎯 result = 103.75000000000001\n",
      "\n",
      "🤖 FINAL RESPONSE: The area of the rectangle is 103.75 square units.\n",
      "🔍 VALIDATION: ✅ correct\n",
      "✅ Calculation completed successfully!\n",
      "\n",
      "⏱️  Execution time: 1.49 seconds\n",
      "============================================================\n"
     ]
    },
    {
     "data": {
      "text/plain": [
       "{'agent': {'messages': [AIMessage(content='The area of the rectangle is 103.75 square units.', additional_kwargs={'refusal': None}, response_metadata={'token_usage': {'completion_tokens': 14, 'prompt_tokens': 402, 'total_tokens': 416, 'completion_tokens_details': {'accepted_prediction_tokens': None, 'audio_tokens': None, 'reasoning_tokens': 0, 'rejected_prediction_tokens': None}, 'prompt_tokens_details': {'audio_tokens': 0, 'cached_tokens': 0}}, 'model_name': 'openai/gpt-4.1-nano', 'system_fingerprint': 'fp_c4c155951e', 'id': 'gen-1757389718-9LJsJoR2vL2QOP2uzloF', 'service_tier': None, 'finish_reason': 'stop', 'logprobs': None}, id='run--1ec57daa-27a6-4d76-ada1-3d9fc2f6ee4d-0', usage_metadata={'input_tokens': 402, 'output_tokens': 14, 'total_tokens': 416, 'input_token_details': {'audio': 0, 'cache_read': 0}, 'output_token_details': {'reasoning': 0}})]}}"
      ]
     },
     "execution_count": 19,
     "metadata": {},
     "output_type": "execute_result"
    }
   ],
   "source": [
    "# Interactive cell - modify the query as needed\n",
    "your_query = \"Calculate the area of a rectangle with width 12.5 and height 8.3\"\n",
    "run_calculation(agent, your_query)"
   ]
  },
  {
   "cell_type": "code",
   "execution_count": 20,
   "metadata": {},
   "outputs": [
    {
     "name": "stdout",
     "output_type": "stream",
     "text": [
      "🧪 Testing complex calculation validation:\n",
      "📐 Extracted expression: (15 + 25) * 3\n",
      "🧮 Python eval result: 120.0\n",
      "\n",
      "\n",
      "============================================================\n",
      "🧮 QUERY (Run 1/3): Calculate (15 + 25) * 3\n",
      "============================================================\n",
      "🛠️  add({'a': 15, 'b': 25}) -> 40.0\n",
      "🛠️  multiply({'a': 3, 'b': 1}) -> 3.0\n",
      "🛠️  multiply({'a': 40, 'b': 3}) -> 120.0\n",
      "🎯 result = 120.0\n",
      "\n",
      "🤖 FINAL RESPONSE (Run 1): The result of (15 + 25) * 3 is 120.\n",
      "⏱️  Execution time: 2.44 seconds\n",
      "\n",
      "============================================================\n",
      "🧮 QUERY (Run 2/3): Calculate (15 + 25) * 3\n",
      "============================================================\n",
      "🛠️  add({'a': 15, 'b': 25}) -> 40.0\n",
      "🛠️  multiply({'a': 3, 'b': 1}) -> 3.0\n",
      "🛠️  multiply({'a': 40, 'b': 3}) -> 120.0\n",
      "🎯 result = 120.0\n",
      "\n",
      "🤖 FINAL RESPONSE (Run 2): The result of (15 + 25) * 3 is 120.\n",
      "⏱️  Execution time: 2.00 seconds\n",
      "\n",
      "============================================================\n",
      "🧮 QUERY (Run 3/3): Calculate (15 + 25) * 3\n",
      "============================================================\n",
      "🛠️  add({'a': 15, 'b': 25}) -> 40.0\n",
      "🛠️  multiply({'a': 3, 'b': 1}) -> 3.0\n",
      "🎯 result = 3.0\n",
      "\n",
      "🤖 FINAL RESPONSE (Run 3): First, 15 + 25 equals 40. Then, multiplying 40 by 3 gives 120.\n",
      "⏱️  Execution time: 2.29 seconds\n",
      "\n",
      "============================================================\n",
      "📋 VALIDATION SUMMARY (3 runs)\n",
      "============================================================\n",
      "🔍 VALIDATION: ❌ wrong (Agent: 120.0, Python: 120.0)\n",
      "   • Inconsistent results: [120.0, 120.0, 40.0]\n",
      "\n",
      "⏱️  Execution times - Avg: 2.24s, Min: 2.00s, Max: 2.44s\n",
      "============================================================\n"
     ]
    },
    {
     "data": {
      "text/plain": [
       "{'agent': {'messages': [AIMessage(content='First, 15 + 25 equals 40. Then, multiplying 40 by 3 gives 120.', additional_kwargs={'refusal': None}, response_metadata={'token_usage': {'completion_tokens': 24, 'prompt_tokens': 378, 'total_tokens': 402, 'completion_tokens_details': {'accepted_prediction_tokens': None, 'audio_tokens': None, 'reasoning_tokens': 0, 'rejected_prediction_tokens': None}, 'prompt_tokens_details': {'audio_tokens': 0, 'cached_tokens': 0}}, 'model_name': 'openai/gpt-4.1-nano', 'system_fingerprint': 'fp_c4c155951e', 'id': 'gen-1757389725-VwM5cIr6yoIteY6Nclzz', 'service_tier': None, 'finish_reason': 'stop', 'logprobs': None}, id='run--f0f6cfc2-a19e-4da2-b789-713cc37fc671-0', usage_metadata={'input_tokens': 378, 'output_tokens': 24, 'total_tokens': 402, 'input_token_details': {'audio': 0, 'cache_read': 0}, 'output_token_details': {'reasoning': 0}})]}}"
      ]
     },
     "execution_count": 20,
     "metadata": {},
     "output_type": "execute_result"
    }
   ],
   "source": [
    "# Test complex calculation with validation \n",
    "print(\"🧪 Testing complex calculation validation:\")\n",
    "run_calculation(agent, \"Calculate (15 + 25) * 3\", repeat=3)"
   ]
  },
  {
   "cell_type": "code",
   "execution_count": 21,
   "metadata": {},
   "outputs": [
    {
     "name": "stdout",
     "output_type": "stream",
     "text": [
      "🧪 Testing multiplication validation with 5 runs:\n",
      "📐 Extracted expression: 23 * 67\n",
      "🧮 Python eval result: 1541.0\n",
      "\n",
      "\n",
      "============================================================\n",
      "🧮 QUERY (Run 1/5): What is 23 * 67?\n",
      "============================================================\n",
      "🛠️  multiply({'a': 23, 'b': 67}) -> 1541.0\n",
      "🎯 result = 1541.0\n",
      "\n",
      "🤖 FINAL RESPONSE (Run 1): The result of 23 multiplied by 67 is 1541.\n",
      "⏱️  Execution time: 1.29 seconds\n",
      "\n",
      "============================================================\n",
      "🧮 QUERY (Run 2/5): What is 23 * 67?\n",
      "============================================================\n",
      "🛠️  multiply({'a': 23, 'b': 67}) -> 1541.0\n",
      "🎯 result = 1541.0\n",
      "\n",
      "🤖 FINAL RESPONSE (Run 2): The result of 23 multiplied by 67 is 1541.\n",
      "⏱️  Execution time: 1.74 seconds\n",
      "\n",
      "============================================================\n",
      "🧮 QUERY (Run 3/5): What is 23 * 67?\n",
      "============================================================\n",
      "🛠️  multiply({'a': 23, 'b': 67}) -> 1541.0\n",
      "🎯 result = 1541.0\n",
      "\n",
      "🤖 FINAL RESPONSE (Run 3): The result of 23 multiplied by 67 is 1541.\n",
      "⏱️  Execution time: 1.43 seconds\n",
      "\n",
      "============================================================\n",
      "🧮 QUERY (Run 4/5): What is 23 * 67?\n",
      "============================================================\n",
      "🛠️  multiply({'a': 23, 'b': 67}) -> 1541.0\n",
      "🎯 result = 1541.0\n",
      "\n",
      "🤖 FINAL RESPONSE (Run 4): The result of 23 multiplied by 67 is 1541.\n",
      "⏱️  Execution time: 1.33 seconds\n",
      "\n",
      "============================================================\n",
      "🧮 QUERY (Run 5/5): What is 23 * 67?\n",
      "============================================================\n",
      "🛠️  multiply({'a': 23, 'b': 67}) -> 1541.0\n",
      "🎯 result = 1541.0\n",
      "\n",
      "🤖 FINAL RESPONSE (Run 5): The result of 23 multiplied by 67 is 1541.\n",
      "⏱️  Execution time: 1.27 seconds\n",
      "\n",
      "============================================================\n",
      "📋 VALIDATION SUMMARY (5 runs)\n",
      "============================================================\n",
      "🔍 VALIDATION: ✅ correct (all 5 runs consistent)\n",
      "\n",
      "⏱️  Execution times - Avg: 1.41s, Min: 1.27s, Max: 1.74s\n",
      "============================================================\n"
     ]
    },
    {
     "data": {
      "text/plain": [
       "{'agent': {'messages': [AIMessage(content='The result of 23 multiplied by 67 is 1541.', additional_kwargs={'refusal': None}, response_metadata={'token_usage': {'completion_tokens': 15, 'prompt_tokens': 334, 'total_tokens': 349, 'completion_tokens_details': {'accepted_prediction_tokens': None, 'audio_tokens': None, 'reasoning_tokens': 0, 'rejected_prediction_tokens': None}, 'prompt_tokens_details': {'audio_tokens': 0, 'cached_tokens': 0}}, 'model_name': 'openai/gpt-4.1-nano', 'system_fingerprint': 'fp_7c233bf9d1', 'id': 'gen-1757389733-FlqtAm8HvJjeFJQQby8b', 'service_tier': None, 'finish_reason': 'stop', 'logprobs': None}, id='run--c7572508-e03c-433a-b9f6-344bc555c5c2-0', usage_metadata={'input_tokens': 334, 'output_tokens': 15, 'total_tokens': 349, 'input_token_details': {'audio': 0, 'cache_read': 0}, 'output_token_details': {'reasoning': 0}})]}}"
      ]
     },
     "execution_count": 21,
     "metadata": {},
     "output_type": "execute_result"
    }
   ],
   "source": [
    "# Test multiplication with validation (repeat=5)\n",
    "print(\"🧪 Testing multiplication validation with 5 runs:\")\n",
    "run_calculation(agent, \"What is 23 * 67?\", repeat=5)"
   ]
  },
  {
   "cell_type": "markdown",
   "metadata": {},
   "source": [
    "## Enhanced Validation Testing\n",
    "\n",
    "Testing the new validation feature that runs calculations multiple times to ensure consistency:"
   ]
  },
  {
   "cell_type": "code",
   "execution_count": 22,
   "id": "idnxrdt1hq9",
   "metadata": {},
   "outputs": [
    {
     "name": "stdout",
     "output_type": "stream",
     "text": [
      "📐 Extracted expression: 15 + 25\n",
      "🧮 Python eval result: 40.0\n",
      "\n",
      "\n",
      "============================================================\n",
      "🧮 QUERY: Calculate 15 + 25\n",
      "============================================================\n",
      "🛠️  add({'a': 15, 'b': 25}) -> 40.0\n",
      "🎯 result = 40.0\n",
      "\n",
      "🤖 FINAL RESPONSE: The result of 15 + 25 is 40.\n",
      "🔍 VALIDATION: ✅ correct\n",
      "✅ Calculation completed successfully!\n",
      "\n",
      "⏱️  Execution time: 1.49 seconds\n",
      "============================================================\n"
     ]
    },
    {
     "data": {
      "text/plain": [
       "{'agent': {'messages': [AIMessage(content='The result of 15 + 25 is 40.', additional_kwargs={'refusal': None}, response_metadata={'token_usage': {'completion_tokens': 13, 'prompt_tokens': 331, 'total_tokens': 344, 'completion_tokens_details': {'accepted_prediction_tokens': None, 'audio_tokens': None, 'reasoning_tokens': 0, 'rejected_prediction_tokens': None}, 'prompt_tokens_details': {'audio_tokens': 0, 'cached_tokens': 0}}, 'model_name': 'openai/gpt-4.1-nano', 'system_fingerprint': 'fp_7c233bf9d1', 'id': 'gen-1757389735-KqCtZ6RxPFsqKZ2iMfrS', 'service_tier': None, 'finish_reason': 'stop', 'logprobs': None}, id='run--da111f17-66f3-42a4-962e-1eb7103b944c-0', usage_metadata={'input_tokens': 331, 'output_tokens': 13, 'total_tokens': 344, 'input_token_details': {'audio': 0, 'cache_read': 0}, 'output_token_details': {'reasoning': 0}})]}}"
      ]
     },
     "execution_count": 22,
     "metadata": {},
     "output_type": "execute_result"
    }
   ],
   "source": [
    "# Test the enhanced tool display\n",
    "import sys\n",
    "sys.path.append('./helpers')\n",
    "from helpers.agent_utils import create_calculator_agent, run_calculation\n",
    "\n",
    "# Create agent \n",
    "agent = create_calculator_agent()\n",
    "\n",
    "# Test with a simple calculation to see the enhanced display\n",
    "run_calculation(agent, \"Calculate 15 + 25\")"
   ]
  },
  {
   "cell_type": "code",
   "execution_count": 23,
   "id": "a646nw0iak4",
   "metadata": {},
   "outputs": [
    {
     "name": "stdout",
     "output_type": "stream",
     "text": [
      "Python eval: -7.0588235294117645\n",
      "\n",
      "Agent's steps (from notebook):\n",
      "🛠️ add({'a': 15, 'b': 25}) -> 40.0\n",
      "🛠️ subtract({'a': 43, 'b': 12}) -> 31.0\n",
      "🛠️ multiply({'a': 25, 'b': 12}) -> 300.0\n",
      "🛠️ multiply({'a': 40, 'b': 3}) -> 120.0\n",
      "🛠️ divide({'a': 120, 'b': 31}) -> 3.870967741935484\n",
      "\n",
      "Correct calculation:\n",
      "(15 + 25) = 40\n",
      "12 * 5 = 60\n",
      "43 - (12*5) = -17\n",
      "((15 + 25) * 3) = 120\n",
      "Final: 120/-17 = -7.0588235294117645\n"
     ]
    }
   ],
   "source": [
    "# Let's test the exact calculation from the notebook to see what should happen\n",
    "expression = \"((15 + 25) * 3)/(43 - 12*5)\"\n",
    "python_result = eval(expression)\n",
    "print(f\"Python eval: {python_result}\")\n",
    "\n",
    "# Let's see how the agent calculated it step by step\n",
    "print(\"\\nAgent's steps (from notebook):\")\n",
    "print(\"🛠️ add({'a': 15, 'b': 25}) -> 40.0\")\n",
    "print(\"🛠️ subtract({'a': 43, 'b': 12}) -> 31.0\")  # ERROR! Should be 43 - (12*5) = 43-60 = -17\n",
    "print(\"🛠️ multiply({'a': 25, 'b': 12}) -> 300.0\")\n",
    "print(\"🛠️ multiply({'a': 40, 'b': 3}) -> 120.0\")\n",
    "print(\"🛠️ divide({'a': 120, 'b': 31}) -> 3.870967741935484\")\n",
    "\n",
    "print(f\"\\nCorrect calculation:\")\n",
    "print(f\"(15 + 25) = {15 + 25}\")\n",
    "print(f\"12 * 5 = {12 * 5}\")\n",
    "print(f\"43 - (12*5) = {43 - (12*5)}\")\n",
    "print(f\"((15 + 25) * 3) = {(15 + 25) * 3}\")\n",
    "print(f\"Final: {((15 + 25) * 3)}/{(43 - (12*5))} = {((15 + 25) * 3)/(43 - (12*5))}\")"
   ]
  }
 ],
 "metadata": {
  "kernelspec": {
   "display_name": "venv",
   "language": "python",
   "name": "python3"
  },
  "language_info": {
   "codemirror_mode": {
    "name": "ipython",
    "version": 3
   },
   "file_extension": ".py",
   "mimetype": "text/x-python",
   "name": "python",
   "nbconvert_exporter": "python",
   "pygments_lexer": "ipython3",
   "version": "3.11.13"
  }
 },
 "nbformat": 4,
 "nbformat_minor": 4
}
